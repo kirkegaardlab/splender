{
 "cells": [
  {
   "cell_type": "code",
   "execution_count": 1,
   "metadata": {},
   "outputs": [],
   "source": [
    "from PIL import Image\n",
    "import numpy as np\n",
    "import jax\n",
    "import jax.numpy as jnp\n",
    "import os\n",
    "import re\n",
    "import matplotlib.pyplot as plt\n",
    "import matplotlib.animation as animation"
   ]
  },
  {
   "cell_type": "code",
   "execution_count": 2,
   "metadata": {},
   "outputs": [],
   "source": [
    "path = \"/home/frans/algae/flagella_data/CC124_cell1/2021_10_07/Export_20211007_174615_cropped/\""
   ]
  },
  {
   "cell_type": "code",
   "execution_count": 3,
   "metadata": {},
   "outputs": [],
   "source": [
    "def get_images(path, max_frames = -1):\n",
    "    images = []\n",
    "    # get all bmp files in folder and sort them\n",
    "    files = os.listdir(path)\n",
    "    files = sorted([f for f in files if re.match(r'.*\\.bmp', f)])\n",
    "    for file in files[:max_frames]:\n",
    "        images.append(jnp.array(Image.open(path + file)))\n",
    "    return jnp.array(images)\n",
    "\n",
    "def to_float(image):\n",
    "    return image.astype(float) / 255.0"
   ]
  },
  {
   "cell_type": "code",
   "execution_count": 4,
   "metadata": {},
   "outputs": [],
   "source": [
    "max_frames = 20\n",
    "vid = to_float(get_images(path, max_frames = max_frames))"
   ]
  },
  {
   "cell_type": "code",
   "execution_count": 10,
   "metadata": {},
   "outputs": [],
   "source": [
    "if os.path.exists('init_knots_first_video.npy'):\n",
    "    init_knots = np.load('init_knots_first_video.npy')"
   ]
  },
  {
   "cell_type": "code",
   "execution_count": null,
   "metadata": {},
   "outputs": [],
   "source": [
    "init_params, config = get_init(vid, init_knots, n = 2, init_scale = 4.0)"
   ]
  }
 ],
 "metadata": {
  "kernelspec": {
   "display_name": ".venv",
   "language": "python",
   "name": "python3"
  },
  "language_info": {
   "codemirror_mode": {
    "name": "ipython",
    "version": 3
   },
   "file_extension": ".py",
   "mimetype": "text/x-python",
   "name": "python",
   "nbconvert_exporter": "python",
   "pygments_lexer": "ipython3",
   "version": "3.12.3"
  }
 },
 "nbformat": 4,
 "nbformat_minor": 2
}
