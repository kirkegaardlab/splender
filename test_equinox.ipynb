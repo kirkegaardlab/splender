{
 "cells": [
  {
   "cell_type": "code",
   "execution_count": 1,
   "metadata": {},
   "outputs": [],
   "source": [
    "from splender.image2 import SplenderImage\n",
    "import jax.random as random\n",
    "from jax import vmap\n",
    "from interpax import Interpolator1D\n",
    "from functools import partial\n",
    "\n",
    "import numpy as np\n",
    "import jax\n",
    "import jax.numpy as jnp\n",
    "from minimum_spanning_tree_inverse_spline_render import get_splines_from_frame\n",
    "\n",
    "import matplotlib.pyplot as plt\n",
    "\n",
    "import equinox as eqx\n",
    "\n",
    "import jax.tree_util as jtu\n",
    "\n",
    "import optax\n"
   ]
  },
  {
   "cell_type": "code",
   "execution_count": 2,
   "metadata": {},
   "outputs": [],
   "source": [
    "dat = np.loadtxt('mnist_train.csv', delimiter=',')"
   ]
  },
  {
   "cell_type": "code",
   "execution_count": 3,
   "metadata": {},
   "outputs": [],
   "source": [
    "def fit_spline(knots):\n",
    "    x, y = knots[..., 0], knots[..., 1]\n",
    "    \n",
    "    s = jnp.linspace(0, 1, len(x))\n",
    "    x_spline = Interpolator1D(s, x, method=\"cubic2\")\n",
    "    y_spline = Interpolator1D(s, y, method=\"cubic2\")\n",
    "    return x_spline, y_spline\n",
    "\n",
    "def get_uniform_points(x_spline, y_spline, n_points_per_spline = 8):\n",
    "    eps = 1e-6\n",
    "    # Compute arc length\n",
    "    dx_ds = vmap(partial(x_spline, dx=1))\n",
    "    dy_ds = vmap(partial(y_spline, dx=1))\n",
    "    s_fine = jnp.linspace(0, 1, n_points_per_spline)\n",
    "    ds_vals = jnp.sqrt(dx_ds(s_fine)**2 + dy_ds(s_fine)**2 + eps)\n",
    "    delta_s = s_fine[1] - s_fine[0]\n",
    "    cumulative_length = jnp.concatenate([\n",
    "        jnp.array([0.0]),\n",
    "        jnp.cumsum(0.5 * (ds_vals[1:] + ds_vals[:-1]) * delta_s)\n",
    "    ])\n",
    "    s_uniform = jnp.interp(jnp.linspace(0, cumulative_length[-1], n_points_per_spline), cumulative_length, s_fine)\n",
    "    return s_uniform, cumulative_length[-1]\n",
    "\n",
    "def downsample_points(coords):\n",
    "    x_spline, y_spline = fit_spline(coords)\n",
    "    s_uniform, length = get_uniform_points(x_spline, y_spline, n_points_per_spline=8)\n",
    "    x = x_spline(s_uniform)\n",
    "    y = y_spline(s_uniform)\n",
    "    return jnp.stack([x, y], axis=-1)"
   ]
  },
  {
   "cell_type": "code",
   "execution_count": 4,
   "metadata": {},
   "outputs": [],
   "source": [
    "i = 2\n",
    "images = []\n",
    "init_splines = []\n",
    "for i in [2, 3]:\n",
    "    img = dat[i, 1:].reshape(28, 28)\n",
    "    img = img / 255.0\n",
    "    images.append(img)\n",
    "    path = get_splines_from_frame(img, 0.1)[0][:, ::-1]\n",
    "    print(len(path))\n",
    "    init_spline = np.array(path).astype(np.float32)\n",
    "    init_spline = downsample_points(init_spline)\n",
    "    init_splines.append(init_spline[None])\n",
    "    print(init_spline.shape)\n",
    "    plt.imshow(img, cmap='gray')\n",
    "    plt.plot(path[:, 0], path[:, 1], 'r-')\n",
    "    plt.plot(init_spline[:, 0], init_spline[:, 1], 'g-')\n",
    "    plt.show()"
   ]
  },
  {
   "cell_type": "code",
   "execution_count": 5,
   "metadata": {},
   "outputs": [],
   "source": [
    "images = jnp.array(images)"
   ]
  },
  {
   "cell_type": "code",
   "execution_count": 6,
   "metadata": {},
   "outputs": [],
   "source": [
    "init_splines = jnp.array(init_splines) / 28"
   ]
  },
  {
   "cell_type": "code",
   "execution_count": 7,
   "metadata": {},
   "outputs": [],
   "source": [
    "model = SplenderImage(random.PRNGKey(0), init_splines, res = 28)"
   ]
  },
  {
   "cell_type": "code",
   "execution_count": 8,
   "metadata": {},
   "outputs": [],
   "source": [
    "filter_spec = jtu.tree_map(lambda _: True, model)\n",
    "filter_background = eqx.tree_at(\n",
    "        lambda tree: (tree.loc_params, tree.knot_params, tree.global_scale, tree.brush_profile, tree.kernel, tree.opacity),\n",
    "        filter_spec,\n",
    "        replace=(False, False, False, False, False, False),\n",
    "    )\n",
    "filter_splines = eqx.tree_at(\n",
    "        lambda tree: (tree.knot_params, tree.global_scale, tree.brush_profile, tree.kernel, tree.opacity),\n",
    "        filter_spec,\n",
    "        replace=(False, False, False, False, False),\n",
    "    )\n",
    "# filter_splines = eqx.tree_at(\n",
    "#         lambda tree: (tree.brush_profile, tree.kernel, tree.opacity),\n",
    "#         filter_spec,\n",
    "#         replace=(False, False, False),\n",
    "#     )"
   ]
  },
  {
   "cell_type": "code",
   "execution_count": 9,
   "metadata": {},
   "outputs": [],
   "source": [
    "@eqx.filter_jit\n",
    "def make_step(model, images, opt_state, filter):\n",
    "    @eqx.filter_value_and_grad\n",
    "    def loss(diff_model, static_model, images):\n",
    "        model = eqx.combine(diff_model, static_model)\n",
    "        recon, lengths, curvatures = model()\n",
    "        recon_loss = jnp.mean((images - recon) ** 2)\n",
    "        min_scale_knots = jax.nn.sigmoid((model.loc_params + model.knot_params)[..., 2]).min(axis = -1)\n",
    "        # jax.debug.print(\"min_scale_knots: {min_scale_knots}\", min_scale_knots=min_scale_knots)\n",
    "        scale_multiplier_reg = 1e-3 * ((min_scale_knots - 1.0)**2).mean()\n",
    "        return recon_loss + scale_multiplier_reg\n",
    "    \n",
    "    diff_model, static_model = eqx.partition(model, filter)\n",
    "    loss_value, grads = loss(diff_model, static_model, images)\n",
    "    # jax.debug.print(\"loss: {loss_value}\", loss_value=loss_value)\n",
    "    # jax.debug.print(\"grads: {grads}\", grads=grads)\n",
    "    updates, opt_state = optim.update(grads, opt_state)\n",
    "    model = eqx.apply_updates(model, updates)\n",
    "    return model, opt_state, loss_value"
   ]
  },
  {
   "cell_type": "code",
   "execution_count": 10,
   "metadata": {},
   "outputs": [],
   "source": [
    "optim = optax.adam(1e-2)\n",
    "losses = []\n",
    "opt_state = optim.init(model)\n",
    "for step in range(199):\n",
    "    model, opt_state, loss_value = make_step(model, images, opt_state, filter_background)\n",
    "    losses.append(loss_value)\n"
   ]
  },
  {
   "cell_type": "code",
   "execution_count": null,
   "metadata": {},
   "outputs": [],
   "source": [
    "optim = optax.adam(1e-4)\n",
    "opt_state = optim.init(model)\n",
    "for step in range(1):\n",
    "    model_s, opt_state, loss_value = make_step(model, images, opt_state, filter_spec)\n",
    "    # model_s, opt_state, loss_value = make_step(model, images, opt_state, filter_splines)\n",
    "    losses.append(loss_value)"
   ]
  },
  {
   "cell_type": "code",
   "execution_count": null,
   "metadata": {},
   "outputs": [],
   "source": [
    "plt.plot(losses)\n",
    "# plt.ylim(0.0665, 0.0668)"
   ]
  },
  {
   "cell_type": "code",
   "execution_count": null,
   "metadata": {},
   "outputs": [],
   "source": [
    "ims, lengths, curvatures = model()"
   ]
  },
  {
   "cell_type": "code",
   "execution_count": null,
   "metadata": {},
   "outputs": [],
   "source": [
    "print(\"model.loc_params\", model.loc_params)\n",
    "print(\"model.knot_params\", model.knot_params)\n",
    "print(\"model.global_scale\", model.global_scale)\n",
    "print(\"model.brush_profile\", model.brush_profile)\n",
    "print(\"model.kernel\", model.kernel)\n",
    "print(\"model.opacity\", model.opacity)"
   ]
  },
  {
   "cell_type": "code",
   "execution_count": null,
   "metadata": {},
   "outputs": [],
   "source": [
    "model_s.knot_params"
   ]
  },
  {
   "cell_type": "code",
   "execution_count": null,
   "metadata": {},
   "outputs": [],
   "source": [
    "ims.shape"
   ]
  },
  {
   "cell_type": "code",
   "execution_count": null,
   "metadata": {},
   "outputs": [],
   "source": [
    "plt.imshow(ims[0], cmap='gray', vmin=0, vmax=1)\n",
    "plt.show()\n",
    "plt.imshow(images[0], cmap='gray', vmin=0, vmax=1)\n",
    "plt.show()\n",
    "# plt.imshow(ims[1], cmap='gray', vmin=0, vmax=1)\n",
    "plt.imshow(ims[1], cmap='gray')\n",
    "plt.show()"
   ]
  },
  {
   "cell_type": "code",
   "execution_count": null,
   "metadata": {},
   "outputs": [],
   "source": []
  },
  {
   "cell_type": "code",
   "execution_count": null,
   "metadata": {},
   "outputs": [],
   "source": []
  }
 ],
 "metadata": {
  "kernelspec": {
   "display_name": ".venv",
   "language": "python",
   "name": "python3"
  },
  "language_info": {
   "codemirror_mode": {
    "name": "ipython",
    "version": 3
   },
   "file_extension": ".py",
   "mimetype": "text/x-python",
   "name": "python",
   "nbconvert_exporter": "python",
   "pygments_lexer": "ipython3",
   "version": "3.12.3"
  }
 },
 "nbformat": 4,
 "nbformat_minor": 2
}
