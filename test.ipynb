{
 "cells": [
  {
   "cell_type": "code",
   "execution_count": 1,
   "metadata": {},
   "outputs": [],
   "source": [
    "from splender.image2 import SplenderImage\n",
    "import jax.random as random\n",
    "\n",
    "import numpy as np\n",
    "import jax\n",
    "import jax.numpy as jnp\n",
    "from minimum_spanning_tree_inverse_spline_render import get_splines_from_frame\n",
    "\n",
    "import matplotlib.pyplot as plt"
   ]
  },
  {
   "cell_type": "code",
   "execution_count": 2,
   "metadata": {},
   "outputs": [],
   "source": [
    "dat = np.loadtxt('mnist_train.csv', delimiter=',')"
   ]
  },
  {
   "cell_type": "code",
   "execution_count": 3,
   "metadata": {},
   "outputs": [
    {
     "name": "stdout",
     "output_type": "stream",
     "text": [
      "31\n",
      "(11, 2)\n"
     ]
    },
    {
     "data": {
      "text/plain": [
       "[<matplotlib.lines.Line2D at 0x74112f2df410>]"
      ]
     },
     "execution_count": 3,
     "metadata": {},
     "output_type": "execute_result"
    },
    {
     "data": {
      "image/png": "[encoded data removed]",
      "text/plain": [
       "<Figure size 640x480 with 1 Axes>"
      ]
     },
     "metadata": {},
     "output_type": "display_data"
    }
   ],
   "source": [
    "i = 2\n",
    "img = dat[i, 1:].reshape(28, 28)\n",
    "img = img / 255.0\n",
    "path = get_splines_from_frame(img, 0.1)[0][:, ::-1]\n",
    "print(len(path))\n",
    "init_spline = np.array(path).astype(np.float32)\n",
    "init_spline = init_spline[::(init_spline.shape[0] // 8)]\n",
    "print(init_spline.shape)\n",
    "plt.imshow(img, cmap='gray')\n",
    "plt.plot(path[:, 0], path[:, 1], 'r-')\n",
    "plt.plot(init_spline[:, 0], init_spline[:, 1], 'g-')"
   ]
  },
  {
   "cell_type": "code",
   "execution_count": 4,
   "metadata": {},
   "outputs": [
    {
     "data": {
      "text/plain": [
       "(1, 11, 2)"
      ]
     },
     "execution_count": 4,
     "metadata": {},
     "output_type": "execute_result"
    }
   ],
   "source": [
    "jnp.array(init_spline)[None].shape"
   ]
  },
  {
   "cell_type": "code",
   "execution_count": 5,
   "metadata": {},
   "outputs": [],
   "source": [
    "tmp = jnp.array(init_spline)[None] / 28"
   ]
  },
  {
   "cell_type": "code",
   "execution_count": 6,
   "metadata": {},
   "outputs": [],
   "source": [
    "foo = SplenderImage(random.PRNGKey(0), tmp, res = 28)"
   ]
  },
  {
   "cell_type": "code",
   "execution_count": 7,
   "metadata": {},
   "outputs": [
    {
     "data": {
      "text/plain": [
       "SplenderImage(\n",
       "  res=28,\n",
       "  n_splines=1,\n",
       "  s_knots=11,\n",
       "  n_points_per_spline_per_frame=100,\n",
       "  brush_profile=f32[13],\n",
       "  spline_contrast=f32[1],\n",
       "  spline_brightness=f32[1],\n",
       "  loc_params=f32[1,1,3],\n",
       "  knot_params=f32[1,11,3],\n",
       "  kernel=f32[3,3],\n",
       "  contrast=f32[1],\n",
       "  brightness=f32[1],\n",
       "  opacity=f32[1],\n",
       "  global_scale=f32[1],\n",
       "  eps=1e-06\n",
       ")"
      ]
     },
     "execution_count": 7,
     "metadata": {},
     "output_type": "execute_result"
    }
   ],
   "source": [
    "foo"
   ]
  },
  {
   "cell_type": "code",
   "execution_count": 8,
   "metadata": {},
   "outputs": [],
   "source": [
    "im = foo()"
   ]
  },
  {
   "cell_type": "code",
   "execution_count": 9,
   "metadata": {},
   "outputs": [
    {
     "data": {
      "text/plain": [
       "Array([[[0.75000006, 0.17857145, 0.9933071 ],\n",
       "        [0.71428573, 0.2857143 , 0.9933071 ],\n",
       "        [0.67857146, 0.39285716, 0.9933071 ],\n",
       "        [0.64285725, 0.5       , 0.9933071 ],\n",
       "        [0.5357143 , 0.5       , 0.9933071 ],\n",
       "        [0.4285715 , 0.5       , 0.9933071 ],\n",
       "        [0.32142863, 0.5357143 , 0.9933071 ],\n",
       "        [0.21428575, 0.5357143 , 0.9933071 ],\n",
       "        [0.14285715, 0.46428573, 0.9933071 ],\n",
       "        [0.14285715, 0.35714287, 0.9933071 ],\n",
       "        [0.14285715, 0.25      , 0.9933071 ]]], dtype=float32)"
      ]
     },
     "execution_count": 9,
     "metadata": {},
     "output_type": "execute_result"
    }
   ],
   "source": [
    "jax.nn.sigmoid(foo.loc_params + foo.knot_params)"
   ]
  },
  {
   "cell_type": "code",
   "execution_count": 10,
   "metadata": {},
   "outputs": [
    {
     "data": {
      "text/plain": [
       "Array([0.28], dtype=float32)"
      ]
     },
     "execution_count": 10,
     "metadata": {},
     "output_type": "execute_result"
    }
   ],
   "source": [
    "foo.global_scale"
   ]
  },
  {
   "cell_type": "code",
   "execution_count": 11,
   "metadata": {},
   "outputs": [
    {
     "data": {
      "text/plain": [
       "<matplotlib.image.AxesImage at 0x7411200c9280>"
      ]
     },
     "execution_count": 11,
     "metadata": {},
     "output_type": "execute_result"
    },
    {
     "data": {
      "image/png": "[encoded data removed]",
      "text/plain": [
       "<Figure size 640x480 with 1 Axes>"
      ]
     },
     "metadata": {},
     "output_type": "display_data"
    }
   ],
   "source": [
    "plt.imshow(im, cmap='gray', vmin=0, vmax=1)"
   ]
  }
 ],
 "metadata": {
  "kernelspec": {
   "display_name": ".venv",
   "language": "python",
   "name": "python3"
  },
  "language_info": {
   "codemirror_mode": {
    "name": "ipython",
    "version": 3
   },
   "file_extension": ".py",
   "mimetype": "text/x-python",
   "name": "python",
   "nbconvert_exporter": "python",
   "pygments_lexer": "ipython3",
   "version": "3.12.3"
  }
 },
 "nbformat": 4,
 "nbformat_minor": 2
}
