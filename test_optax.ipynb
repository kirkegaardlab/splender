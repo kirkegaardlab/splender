{
 "cells": [
  {
   "cell_type": "code",
   "execution_count": 1,
   "metadata": {},
   "outputs": [],
   "source": [
    "from splender.image2 import SplenderImage\n",
    "import jax.random as random\n",
    "from jax import vmap, value_and_grad, grad, jit\n",
    "from interpax import Interpolator1D\n",
    "from functools import partial\n",
    "\n",
    "import numpy as np\n",
    "import jax\n",
    "import jax.numpy as jnp\n",
    "from minimum_spanning_tree_inverse_spline_render import get_splines_from_frame\n",
    "\n",
    "import matplotlib.pyplot as plt\n",
    "\n",
    "import jax.tree_util as jtu\n",
    "\n",
    "import optax\n"
   ]
  },
  {
   "cell_type": "code",
   "execution_count": 2,
   "metadata": {},
   "outputs": [],
   "source": [
    "dat = np.loadtxt('mnist_train.csv', delimiter=',')"
   ]
  },
  {
   "cell_type": "code",
   "execution_count": 3,
   "metadata": {},
   "outputs": [],
   "source": [
    "def fit_spline(knots):\n",
    "    x, y = knots[..., 0], knots[..., 1]\n",
    "    \n",
    "    s = jnp.linspace(0, 1, len(x))\n",
    "    x_spline = Interpolator1D(s, x, method=\"cubic2\")\n",
    "    y_spline = Interpolator1D(s, y, method=\"cubic2\")\n",
    "    return x_spline, y_spline\n",
    "\n",
    "def get_uniform_points(x_spline, y_spline, n_points_per_spline = 8):\n",
    "    eps = 1e-6\n",
    "    # Compute arc length\n",
    "    dx_ds = vmap(partial(x_spline, dx=1))\n",
    "    dy_ds = vmap(partial(y_spline, dx=1))\n",
    "    s_fine = jnp.linspace(0, 1, n_points_per_spline)\n",
    "    ds_vals = jnp.sqrt(dx_ds(s_fine)**2 + dy_ds(s_fine)**2 + eps)\n",
    "    delta_s = s_fine[1] - s_fine[0]\n",
    "    cumulative_length = jnp.concatenate([\n",
    "        jnp.array([0.0]),\n",
    "        jnp.cumsum(0.5 * (ds_vals[1:] + ds_vals[:-1]) * delta_s)\n",
    "    ])\n",
    "    s_uniform = jnp.interp(jnp.linspace(0, cumulative_length[-1], n_points_per_spline), cumulative_length, s_fine)\n",
    "    return s_uniform, cumulative_length[-1]\n",
    "\n",
    "def downsample_points(coords):\n",
    "    x_spline, y_spline = fit_spline(coords)\n",
    "    s_uniform, length = get_uniform_points(x_spline, y_spline, n_points_per_spline=8)\n",
    "    x = x_spline(s_uniform)\n",
    "    y = y_spline(s_uniform)\n",
    "    return jnp.stack([x, y], axis=-1)"
   ]
  },
  {
   "cell_type": "code",
   "execution_count": 4,
   "metadata": {},
   "outputs": [
    {
     "name": "stdout",
     "output_type": "stream",
     "text": [
      "31\n",
      "(8, 2)\n"
     ]
    },
    {
     "data": {
      "image/png": "[encoded data removed]",
      "text/plain": [
       "<Figure size 640x480 with 1 Axes>"
      ]
     },
     "metadata": {},
     "output_type": "display_data"
    },
    {
     "name": "stdout",
     "output_type": "stream",
     "text": [
      "18\n",
      "(8, 2)\n"
     ]
    },
    {
     "data": {
      "image/png": "[encoded data removed]",
      "text/plain": [
       "<Figure size 640x480 with 1 Axes>"
      ]
     },
     "metadata": {},
     "output_type": "display_data"
    }
   ],
   "source": [
    "i = 2\n",
    "images = []\n",
    "init_splines = []\n",
    "for i in [2, 3]:\n",
    "    img = dat[i, 1:].reshape(28, 28)\n",
    "    img = img / 255.0\n",
    "    images.append(img)\n",
    "    path = get_splines_from_frame(img, 0.1)[0][:, ::-1]\n",
    "    print(len(path))\n",
    "    init_spline = np.array(path).astype(np.float32)\n",
    "    init_spline = downsample_points(init_spline)\n",
    "    init_splines.append(init_spline[None])\n",
    "    print(init_spline.shape)\n",
    "    plt.imshow(img, cmap='gray')\n",
    "    plt.plot(path[:, 0], path[:, 1], 'r-')\n",
    "    plt.plot(init_spline[:, 0], init_spline[:, 1], 'g-')\n",
    "    plt.show()"
   ]
  },
  {
   "cell_type": "code",
   "execution_count": 5,
   "metadata": {},
   "outputs": [],
   "source": [
    "images = jnp.array(images)"
   ]
  },
  {
   "cell_type": "code",
   "execution_count": 6,
   "metadata": {},
   "outputs": [],
   "source": [
    "init_splines = jnp.array(init_splines) / 28"
   ]
  },
  {
   "cell_type": "code",
   "execution_count": 7,
   "metadata": {},
   "outputs": [],
   "source": [
    "# model = SplenderImage(random.PRNGKey(0), init_splines, res = 28)\n",
    "model = SplenderImage()"
   ]
  },
  {
   "cell_type": "code",
   "execution_count": 8,
   "metadata": {},
   "outputs": [],
   "source": [
    "model = model.init(random.PRNGKey(0), init_knots=init_splines, res=28)"
   ]
  },
  {
   "cell_type": "code",
   "execution_count": 9,
   "metadata": {},
   "outputs": [
    {
     "data": {
      "text/plain": [
       "28"
      ]
     },
     "execution_count": 9,
     "metadata": {},
     "output_type": "execute_result"
    }
   ],
   "source": [
    "model.res"
   ]
  },
  {
   "cell_type": "code",
   "execution_count": 10,
   "metadata": {},
   "outputs": [
    {
     "data": {
      "text/plain": [
       "Array([[[[-0.2523591 , -0.48587483,  5.        ]]],\n",
       "\n",
       "\n",
       "       [[[ 0.05236834, -0.04692993,  5.        ]]]], dtype=float32)"
      ]
     },
     "execution_count": 10,
     "metadata": {},
     "output_type": "execute_result"
    }
   ],
   "source": [
    "model.loc_params"
   ]
  },
  {
   "cell_type": "code",
   "execution_count": 11,
   "metadata": {},
   "outputs": [],
   "source": [
    "ims, lengths, curvatures = model()"
   ]
  },
  {
   "cell_type": "code",
   "execution_count": 12,
   "metadata": {},
   "outputs": [
    {
     "data": {
      "text/plain": [
       "Array([[[0.5, 0.5, 0.5, ..., 0.5, 0.5, 0.5],\n",
       "        [0.5, 0.5, 0.5, ..., 0.5, 0.5, 0.5],\n",
       "        [0.5, 0.5, 0.5, ..., 0.5, 0.5, 0.5],\n",
       "        ...,\n",
       "        [0.5, 0.5, 0.5, ..., 0.5, 0.5, 0.5],\n",
       "        [0.5, 0.5, 0.5, ..., 0.5, 0.5, 0.5],\n",
       "        [0.5, 0.5, 0.5, ..., 0.5, 0.5, 0.5]],\n",
       "\n",
       "       [[0.5, 0.5, 0.5, ..., 0.5, 0.5, 0.5],\n",
       "        [0.5, 0.5, 0.5, ..., 0.5, 0.5, 0.5],\n",
       "        [0.5, 0.5, 0.5, ..., 0.5, 0.5, 0.5],\n",
       "        ...,\n",
       "        [0.5, 0.5, 0.5, ..., 0.5, 0.5, 0.5],\n",
       "        [0.5, 0.5, 0.5, ..., 0.5, 0.5, 0.5],\n",
       "        [0.5, 0.5, 0.5, ..., 0.5, 0.5, 0.5]]], dtype=float32)"
      ]
     },
     "execution_count": 12,
     "metadata": {},
     "output_type": "execute_result"
    }
   ],
   "source": [
    "ims"
   ]
  },
  {
   "cell_type": "code",
   "execution_count": 13,
   "metadata": {},
   "outputs": [
    {
     "data": {
      "text/plain": [
       "Array([[[[-0.2523591 , -0.48587483,  5.        ]]],\n",
       "\n",
       "\n",
       "       [[[ 0.05236834, -0.04692993,  5.        ]]]], dtype=float32)"
      ]
     },
     "execution_count": 13,
     "metadata": {},
     "output_type": "execute_result"
    }
   ],
   "source": [
    "model.loc_params"
   ]
  },
  {
   "cell_type": "code",
   "execution_count": 14,
   "metadata": {},
   "outputs": [
    {
     "data": {
      "text/plain": [
       "SplenderImage(brush_profile=Array([1.        , 0.69444454, 0.4444444 , 0.25      , 0.11111107,\n",
       "       0.02777776, 0.        , 0.0277778 , 0.11111113, 0.25      ,\n",
       "       0.44444454, 0.69444454, 1.        ], dtype=float32), spline_contrast=Array([1.], dtype=float32), spline_brightness=Array([0.], dtype=float32), loc_params=Array([[[[-0.2523591 , -0.48587483,  5.        ]]],\n",
       "\n",
       "\n",
       "       [[[ 0.05236834, -0.04692993,  5.        ]]]], dtype=float32), knot_params=Array([[[[ 1.3509717 , -1.0401814 ,  0.        ],\n",
       "         [ 1.1681991 , -0.34738296,  0.        ],\n",
       "         [ 1.0100061 ,  0.23005375,  0.        ],\n",
       "         [ 0.5287676 ,  0.48620737,  0.        ],\n",
       "         [-0.09535694,  0.47344255,  0.        ],\n",
       "         [-0.8828923 ,  0.6275515 ,  0.        ],\n",
       "         [-1.5402946 ,  0.18304649,  0.        ],\n",
       "         [-1.5394003 , -0.61273736,  0.        ]]],\n",
       "\n",
       "\n",
       "       [[[-0.64015496,  1.3462132 ,  0.        ],\n",
       "         [-0.48379973,  0.9445306 ,  0.        ],\n",
       "         [-0.3375813 ,  0.49053094,  0.        ],\n",
       "         [-0.14229457,  0.14846867,  0.        ],\n",
       "         [-0.03481055, -0.12882312,  0.        ],\n",
       "         [ 0.23786226, -0.4470984 ,  0.        ],\n",
       "         [ 0.53685635, -0.8746953 ,  0.        ],\n",
       "         [ 0.8639225 , -1.4791262 ,  0.        ]]]], dtype=float32), kernel=Array([[0., 0., 0.],\n",
       "       [0., 1., 0.],\n",
       "       [0., 0., 0.]], dtype=float32), contrast=Array([1.], dtype=float32), brightness=Array([0.], dtype=float32), opacity=Array([1.], dtype=float32), global_scale=Array([0.28], dtype=float32), res=28, n_images=2, n_splines=1, s_knots=8, n_points_per_spline_per_frame=100, eps=1e-06)"
      ]
     },
     "execution_count": 14,
     "metadata": {},
     "output_type": "execute_result"
    }
   ],
   "source": [
    "model"
   ]
  },
  {
   "cell_type": "code",
   "execution_count": 15,
   "metadata": {},
   "outputs": [],
   "source": [
    "@jit\n",
    "def loss(model, images):\n",
    "    recon, lengths, curvatures = model()\n",
    "    recon_loss = jnp.mean((images - recon) ** 2)\n",
    "    min_scale_knots = jax.nn.sigmoid((model.loc_params + model.knot_params)[..., 2]).min(axis = -1)\n",
    "    # jax.debug.print(\"min_scale_knots: {min_scale_knots}\", min_scale_knots=min_scale_knots)\n",
    "    scale_multiplier_reg = 1e-3 * ((min_scale_knots - 1.0)**2).mean()\n",
    "    return recon_loss + scale_multiplier_reg\n",
    "\n",
    "def make_step(model, images, opt_state):\n",
    "    # loss_value, grads = value_and_grad(loss)(model, images)\n",
    "    grads = grad(loss)(model, images)\n",
    "    # jax.debug.print(\"loss: {loss_value}\", loss_value=loss_value)\n",
    "    # jax.debug.print(\"grads: {grads}\", grads=grads)\n",
    "    updates, opt_state = optim.update(grads, opt_state, model)\n",
    "    model = optax.apply_updates(model, updates)\n",
    "    return model, opt_state"
   ]
  },
  {
   "cell_type": "code",
   "execution_count": 16,
   "metadata": {},
   "outputs": [
    {
     "data": {
      "text/plain": [
       "Array([[[[-0.2523591 , -0.48587483,  5.        ]]],\n",
       "\n",
       "\n",
       "       [[[ 0.05236834, -0.04692993,  5.        ]]]], dtype=float32)"
      ]
     },
     "execution_count": 16,
     "metadata": {},
     "output_type": "execute_result"
    }
   ],
   "source": [
    "model.loc_params"
   ]
  },
  {
   "cell_type": "code",
   "execution_count": 17,
   "metadata": {},
   "outputs": [],
   "source": [
    "optim = optax.adam(1e-2)\n",
    "losses = []\n",
    "opt_state = optim.init(model)\n",
    "for step in range(1000):\n",
    "    model, opt_state = make_step(model, images, opt_state)"
   ]
  },
  {
   "cell_type": "code",
   "execution_count": 18,
   "metadata": {},
   "outputs": [],
   "source": [
    "optim = optax.adam(1e-4)\n",
    "opt_state = optim.init(model)\n",
    "for step in range(1):\n",
    "    model_s, opt_state = make_step(model, images, opt_state)\n",
    "    # model_s, opt_state, loss_value = make_step(model, images, opt_state, filter_splines)\n",
    "    # losses.append(loss_value)"
   ]
  },
  {
   "cell_type": "code",
   "execution_count": 19,
   "metadata": {},
   "outputs": [
    {
     "data": {
      "text/plain": [
       "[<matplotlib.lines.Line2D at 0x72e79c5850d0>]"
      ]
     },
     "execution_count": 19,
     "metadata": {},
     "output_type": "execute_result"
    },
    {
     "data": {
      "image/png": "[encoded data removed]",
      "text/plain": [
       "<Figure size 640x480 with 1 Axes>"
      ]
     },
     "metadata": {},
     "output_type": "display_data"
    }
   ],
   "source": [
    "plt.plot(losses)\n",
    "# plt.ylim(0.0665, 0.0668)"
   ]
  },
  {
   "cell_type": "code",
   "execution_count": 20,
   "metadata": {},
   "outputs": [],
   "source": [
    "ims, lengths, curvatures = model()"
   ]
  },
  {
   "cell_type": "code",
   "execution_count": 21,
   "metadata": {},
   "outputs": [
    {
     "name": "stdout",
     "output_type": "stream",
     "text": [
      "model.loc_params [[[[-0.26353064 -0.21184497  1.9402453 ]]]\n",
      "\n",
      "\n",
      " [[[ 0.06209932 -0.01914327  3.0373247 ]]]]\n",
      "model.knot_params [[[[ 1.4167409  -1.3323189  -0.49587774]\n",
      "   [ 0.8315747   1.4645029  -2.9702637 ]\n",
      "   [ 1.1964703   1.4273098   0.19522612]\n",
      "   [ 1.0531524   0.2516059   3.9322026 ]\n",
      "   [ 0.16443026  0.25635314 -2.9680727 ]\n",
      "   [-1.1228571   0.39232865 -1.33896   ]\n",
      "   [-1.5255195  -0.03016639 -1.3069843 ]\n",
      "   [-1.4291235  -0.9872302  -0.12721081]]]\n",
      "\n",
      "\n",
      " [[[-0.5063535   1.6048586  -2.9011428 ]\n",
      "   [-0.62995166  0.6675321   2.5587037 ]\n",
      "   [-0.2969026   0.5618795  -2.4652507 ]\n",
      "   [-0.02521663  0.13233791  3.8096604 ]\n",
      "   [-0.27899346  0.11757984  3.3027253 ]\n",
      "   [ 0.27354586 -0.42010656 -2.071691  ]\n",
      "   [ 0.6122867  -1.3194009  -0.18367627]\n",
      "   [ 0.97237605 -1.0349771  -0.9253996 ]]]]\n",
      "model.global_scale [1.2109216]\n",
      "model.brush_profile [1.         0.69444454 0.4444444  0.25       0.11111107 0.02777776\n",
      " 0.79374117 0.12718014 0.03692707 0.7217479  1.5250025  2.134239\n",
      " 2.551538  ]\n",
      "model.kernel [[-0.44752935 -0.0235503  -0.21508741]\n",
      " [-0.00761398  1.3476049  -0.06000914]\n",
      " [-0.2725625   0.14127263 -0.52393377]]\n",
      "model.opacity [1.]\n"
     ]
    }
   ],
   "source": [
    "print(\"model.loc_params\", model.loc_params)\n",
    "print(\"model.knot_params\", model.knot_params)\n",
    "print(\"model.global_scale\", model.global_scale)\n",
    "print(\"model.brush_profile\", model.brush_profile)\n",
    "print(\"model.kernel\", model.kernel)\n",
    "print(\"model.opacity\", model.opacity)"
   ]
  },
  {
   "cell_type": "code",
   "execution_count": 22,
   "metadata": {},
   "outputs": [
    {
     "data": {
      "text/plain": [
       "Array([[[[ 1.4166409 , -1.3324189 , -0.49577776],\n",
       "         [ 0.8316747 ,  1.4644029 , -2.9703636 ],\n",
       "         [ 1.1965703 ,  1.4274098 ,  0.19532603],\n",
       "         [ 1.0532525 ,  0.25170588,  3.9323022 ],\n",
       "         [ 0.16433026,  0.25625315, -2.9679728 ],\n",
       "         [-1.1227571 ,  0.39222866, -1.33886   ],\n",
       "         [-1.5254195 , -0.03006639, -1.3068843 ],\n",
       "         [-1.4292234 , -0.98713017, -0.12711082]]],\n",
       "\n",
       "\n",
       "       [[[-0.5064535 ,  1.6049587 , -2.901043  ],\n",
       "         [-0.6300516 ,  0.6676321 ,  2.558803  ],\n",
       "         [-0.2968026 ,  0.5617795 , -2.4653506 ],\n",
       "         [-0.0253166 ,  0.13223793,  3.8097558 ],\n",
       "         [-0.27889347,  0.11767983,  3.302825  ],\n",
       "         [ 0.27344587, -0.42020655, -2.0715911 ],\n",
       "         [ 0.6121867 , -1.3193009 , -0.18357643],\n",
       "         [ 0.97227603, -1.035077  , -0.92529964]]]], dtype=float32)"
      ]
     },
     "execution_count": 22,
     "metadata": {},
     "output_type": "execute_result"
    }
   ],
   "source": [
    "model_s.knot_params"
   ]
  },
  {
   "cell_type": "code",
   "execution_count": 23,
   "metadata": {},
   "outputs": [
    {
     "data": {
      "text/plain": [
       "(2, 28, 28)"
      ]
     },
     "execution_count": 23,
     "metadata": {},
     "output_type": "execute_result"
    }
   ],
   "source": [
    "ims.shape"
   ]
  },
  {
   "cell_type": "code",
   "execution_count": 25,
   "metadata": {},
   "outputs": [
    {
     "data": {
      "image/png": "[encoded data removed]",
      "text/plain": [
       "<Figure size 640x480 with 1 Axes>"
      ]
     },
     "metadata": {},
     "output_type": "display_data"
    },
    {
     "data": {
      "image/png": "[encoded data removed]",
      "text/plain": [
       "<Figure size 640x480 with 1 Axes>"
      ]
     },
     "metadata": {},
     "output_type": "display_data"
    },
    {
     "data": {
      "image/png": "[encoded data removed]",
      "text/plain": [
       "<Figure size 640x480 with 1 Axes>"
      ]
     },
     "metadata": {},
     "output_type": "display_data"
    },
    {
     "data": {
      "image/png": "[encoded data removed]",
      "text/plain": [
       "<Figure size 640x480 with 1 Axes>"
      ]
     },
     "metadata": {},
     "output_type": "display_data"
    }
   ],
   "source": [
    "plt.imshow(ims[0], cmap='gray', vmin=0, vmax=1)\n",
    "plt.show()\n",
    "plt.imshow(images[0], cmap='gray', vmin=0, vmax=1)\n",
    "plt.show()\n",
    "plt.imshow(ims[1], cmap='gray', vmin=0, vmax=1)\n",
    "plt.show()\n",
    "plt.imshow(images[1], cmap='gray', vmin=0, vmax=1)\n",
    "plt.show()"
   ]
  },
  {
   "cell_type": "code",
   "execution_count": null,
   "metadata": {},
   "outputs": [],
   "source": []
  },
  {
   "cell_type": "code",
   "execution_count": null,
   "metadata": {},
   "outputs": [],
   "source": []
  }
 ],
 "metadata": {
  "kernelspec": {
   "display_name": ".venv",
   "language": "python",
   "name": "python3"
  },
  "language_info": {
   "codemirror_mode": {
    "name": "ipython",
    "version": 3
   },
   "file_extension": ".py",
   "mimetype": "text/x-python",
   "name": "python",
   "nbconvert_exporter": "python",
   "pygments_lexer": "ipython3",
   "version": "3.12.3"
  }
 },
 "nbformat": 4,
 "nbformat_minor": 2
}
